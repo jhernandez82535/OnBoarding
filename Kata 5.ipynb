{
 "cells": [
  {
   "cell_type": "markdown",
   "metadata": {},
   "source": [
    "# Ejercicio1 - Utilizar operadores aritméticos"
   ]
  },
  {
   "cell_type": "code",
   "execution_count": 1,
   "metadata": {},
   "outputs": [
    {
     "name": "stdout",
     "output_type": "stream",
     "text": [
      "La distancia entre la tierra y juputer es de  628949330 Kms\n"
     ]
    }
   ],
   "source": [
    "# Datos\n",
    "tierra = 149597870 #km \n",
    "jupiter = 778547200 #km\n",
    "\n",
    "distanciaTJ = jupiter - tierra\n",
    "\n",
    "print (\"La distancia entre la tierra y jupiter es de \", distanciaTJ, (\"Kms\"))"
   ]
  },
  {
   "cell_type": "code",
   "execution_count": 5,
   "metadata": {},
   "outputs": [
    {
     "name": "stdout",
     "output_type": "stream",
     "text": [
      "('La distancia entre la tierra y jupiter es de ', 390577533.93, 'millas')\n"
     ]
    }
   ],
   "source": [
    "# Calcular la distancia entre planetas en millas\n",
    "# 1 Km  = 0.621371 Milla\n",
    "\n",
    "milla = 0.621\n",
    "distanciamillas = distanciaTJ * milla\n",
    "\n",
    "\n",
    "print  ((\"La distancia entre la tierra y jupiter es de \", distanciamillas, (\"millas\")))"
   ]
  },
  {
   "cell_type": "markdown",
   "metadata": {},
   "source": [
    "# Ejercicio 2: convierte cadenas en números y usa valores absolutos"
   ]
  },
  {
   "cell_type": "code",
   "execution_count": 11,
   "metadata": {},
   "outputs": [
    {
     "name": "stdout",
     "output_type": "stream",
     "text": [
      "La distancia entre los planetas es de 31236300.0 millas\n"
     ]
    }
   ],
   "source": [
    "# Datos del usuario\n",
    "\n",
    "planeta1 = input('Introduce la distancia del sol para el primer planeta en KM')\n",
    "planeta2 = input('Introduce la distancia del sol para el segundo planeta en KM')\n",
    "milla = 0.621\n",
    "\n",
    "planeta1 = int(planeta1)\n",
    "planeta2 = int(planeta2)\n",
    "\n",
    "distancia = planeta1 - planeta2\n",
    "\n",
    "distanciamillas = milla * distancia\n",
    "\n",
    "print(\"La distancia entre los planetas es de\", abs(distanciamillas), (\"millas\"))\n",
    "\n"
   ]
  }
 ],
 "metadata": {
  "interpreter": {
   "hash": "81f664bbe706942b6afa267f2a19450cf1ca65efa655f0876e319bc62e2af65e"
  },
  "kernelspec": {
   "display_name": "Python 3.10.2 64-bit",
   "language": "python",
   "name": "python3"
  },
  "language_info": {
   "codemirror_mode": {
    "name": "ipython",
    "version": 3
   },
   "file_extension": ".py",
   "mimetype": "text/x-python",
   "name": "python",
   "nbconvert_exporter": "python",
   "pygments_lexer": "ipython3",
   "version": "3.10.2"
  },
  "orig_nbformat": 4
 },
 "nbformat": 4,
 "nbformat_minor": 2
}
