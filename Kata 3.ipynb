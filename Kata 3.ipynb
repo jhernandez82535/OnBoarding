{
 "cells": [
  {
   "cell_type": "markdown",
   "metadata": {},
   "source": [
    "# Escribir declaraciones if, else, y elif"
   ]
  },
  {
   "cell_type": "markdown",
   "metadata": {},
   "source": [
    "# Ejercicio 1.1"
   ]
  },
  {
   "cell_type": "code",
   "execution_count": 33,
   "metadata": {},
   "outputs": [
    {
     "name": "stdout",
     "output_type": "stream",
     "text": [
      "Peligro, un asteroide se acerca a la tierra a una velocidad de 49 km/s\n"
     ]
    }
   ],
   "source": [
    "velocidad_asteroide = 49\n",
    "if velocidad_asteroide >= 25:\n",
    "    print(\"Peligro, un asteroide se acerca a la tierra a una velocidad de\", + (velocidad_asteroide), \"km/s\")\n",
    "else:\n",
    "    print(\"no corremos peligro\")"
   ]
  },
  {
   "cell_type": "markdown",
   "metadata": {},
   "source": [
    "# Ejercicio 1.2"
   ]
  },
  {
   "cell_type": "code",
   "execution_count": 44,
   "metadata": {},
   "outputs": [
    {
     "name": "stdout",
     "output_type": "stream",
     "text": [
      "Nada quue ver por el momento\n"
     ]
    }
   ],
   "source": [
    "velocidad_asteroide_atmosfera = 19\n",
    "if velocidad_asteroide_atmosfera >20:\n",
    "    print (\"Mira al cielo, podrás ver un destello de luz\")\n",
    "elif velocidad_asteroide_atmosfera == 20:\n",
    "    print (\"Mira al cielo, podrás ver un destello de luz\")\n",
    "else:\n",
    "    print(\"Nada quue ver por el momento\")"
   ]
  },
  {
   "cell_type": "markdown",
   "metadata": {},
   "source": [
    "# Ejercicio 2"
   ]
  },
  {
   "cell_type": "code",
   "execution_count": 91,
   "metadata": {},
   "outputs": [
    {
     "name": "stdout",
     "output_type": "stream",
     "text": [
      "Nada interesante en el cielo por hoy\n"
     ]
    }
   ],
   "source": [
    "asteroide = 10\n",
    "velocidad = 10\n",
    "\n",
    "if asteroide >= 25 and asteroide <= 1000 and velocidad >= 25:\n",
    "    print (\"Alerta, se acerca un asteroide de\", + (asteroide), \"metros de diametro a una velocidad de\", + (velocidad), \"km/h\")\n",
    "elif asteroide > 1000 and velocidad > 25:\n",
    "    print (\"Se aproxima un asteroide de\", + (asteroide), \"metros de diametros a una velocidad de\", + (velocidad), \"km/s que causaría un daño catastrofico a la tierra\")\n",
    "elif velocidad >= 20:\n",
    "    print (\"Mira al cielo, podrás ver un destello de luz\")\n",
    "elif asteroide < 25:\n",
    "    print (\"Nada interesante en el cielo por hoy\")\n",
    "else:\n",
    "    print(\"Nada interesante en el cielo por hoy\")"
   ]
  }
 ],
 "metadata": {
  "interpreter": {
   "hash": "81f664bbe706942b6afa267f2a19450cf1ca65efa655f0876e319bc62e2af65e"
  },
  "kernelspec": {
   "display_name": "Python 3.10.2 64-bit",
   "language": "python",
   "name": "python3"
  },
  "language_info": {
   "codemirror_mode": {
    "name": "ipython",
    "version": 3
   },
   "file_extension": ".py",
   "mimetype": "text/x-python",
   "name": "python",
   "nbconvert_exporter": "python",
   "pygments_lexer": "ipython3",
   "version": "3.10.2"
  },
  "orig_nbformat": 4
 },
 "nbformat": 4,
 "nbformat_minor": 2
}
