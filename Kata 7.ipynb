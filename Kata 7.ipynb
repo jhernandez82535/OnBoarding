{
 "cells": [
  {
   "cell_type": "markdown",
   "metadata": {},
   "source": [
    "# Ejercicio 1: Creación de un bucle \"while\""
   ]
  },
  {
   "cell_type": "code",
   "execution_count": 18,
   "metadata": {},
   "outputs": [
    {
     "name": "stdout",
     "output_type": "stream",
     "text": [
      "['Marte']\n"
     ]
    }
   ],
   "source": [
    "newplanet = ''\n",
    "planets = []\n",
    "\n",
    "while newplanet.lower() != 'listo':\n",
    "    if newplanet:\n",
    "        planets.append(newplanet)\n",
    "    newplanet = input('Escribe los planetas o listo para terminar ')\n",
    "print (planets)"
   ]
  },
  {
   "cell_type": "markdown",
   "metadata": {},
   "source": [
    "# Ejercicio 2: Creación de un ciclo \"for\""
   ]
  },
  {
   "cell_type": "code",
   "execution_count": 2,
   "metadata": {},
   "outputs": [
    {
     "name": "stdout",
     "output_type": "stream",
     "text": [
      "asdasd\n",
      "SDFSDFS\n"
     ]
    }
   ],
   "source": [
    "newplanet = ''\n",
    "planets = []\n",
    "\n",
    "while newplanet.lower() != 'listo':\n",
    "    if newplanet:\n",
    "        planets.append(newplanet)\n",
    "    newplanet = input('Escribe los planetas o listo para terminar ')\n",
    "for planet in planets:\n",
    "    print(planet)"
   ]
  }
 ],
 "metadata": {
  "interpreter": {
   "hash": "81f664bbe706942b6afa267f2a19450cf1ca65efa655f0876e319bc62e2af65e"
  },
  "kernelspec": {
   "display_name": "Python 3.10.2 64-bit",
   "language": "python",
   "name": "python3"
  },
  "language_info": {
   "codemirror_mode": {
    "name": "ipython",
    "version": 3
   },
   "file_extension": ".py",
   "mimetype": "text/x-python",
   "name": "python",
   "nbconvert_exporter": "python",
   "pygments_lexer": "ipython3",
   "version": "3.10.2"
  },
  "orig_nbformat": 4
 },
 "nbformat": 4,
 "nbformat_minor": 2
}
