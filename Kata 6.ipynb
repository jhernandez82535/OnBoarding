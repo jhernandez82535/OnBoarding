{
 "cells": [
  {
   "cell_type": "markdown",
   "metadata": {},
   "source": [
    "# Ejercicio1: Crear y usar listas de Python"
   ]
  },
  {
   "cell_type": "code",
   "execution_count": 12,
   "metadata": {},
   "outputs": [
    {
     "name": "stdout",
     "output_type": "stream",
     "text": [
      "El sistema solar tiene 8 planetas en total y son: ['Mercurio', 'Venus', 'Tierra', 'Marte', 'Jupiter', 'Saturno', 'Urano', 'Neptuno']\n",
      "Hemos agregado Pluton como planeta y ahora son  9\n"
     ]
    }
   ],
   "source": [
    "planets = [\"Mercurio\", \"Venus\", \"Tierra\", \"Marte\", \"Jupiter\", \"Saturno\", \"Urano\", \"Neptuno\"]\n",
    "totalPlanetas = len(planets)\n",
    "print (\"El sistema solar tiene\", totalPlanetas, \"planetas en total y son:\", planets)\n",
    "\n",
    "# Agregamos pluton \n",
    "planets.append(\"Pluton\")\n",
    "totalPlanetas = len(planets)\n",
    "print(\"Hemos agregado\", planets[-1], \"como planeta y ahora son \", totalPlanetas,)\n"
   ]
  },
  {
   "cell_type": "markdown",
   "metadata": {},
   "source": [
    "# Ejercicio 2: Trabajando con datos de una lista"
   ]
  },
  {
   "cell_type": "code",
   "execution_count": 29,
   "metadata": {},
   "outputs": [
    {
     "name": "stdout",
     "output_type": "stream",
     "text": [
      "Urano es el 7 despues del sol\n",
      "Estos son los planetas antes que Urano ['Mercurio', 'Venus', 'Tierra', 'Marte', 'Jupiter', 'Saturno']\n",
      "Y estos los que le siguen a Urano ['Neptuno']\n"
     ]
    }
   ],
   "source": [
    "planets = [\"Mercurio\", \"Venus\", \"Tierra\", \"Marte\", \"Jupiter\", \"Saturno\", \"Urano\", \"Neptuno\"]\n",
    "\n",
    "planeta1 = input (\"Escribe el nombre de un planeta (Empezando con mayusculas)\")\n",
    "\n",
    "planetaIndex = planets.index(planeta1)\n",
    "print(planeta1, \"es el\", planetaIndex + 1, \"despues del sol\")\n",
    "\n",
    "print(\"Estos son los planetas antes que\", planeta1, (planets[0:planetaIndex]))\n",
    "print(\"Y estos los que le siguen a\", planeta1, (planets[planetaIndex+1:]))\n"
   ]
  }
 ],
 "metadata": {
  "interpreter": {
   "hash": "81f664bbe706942b6afa267f2a19450cf1ca65efa655f0876e319bc62e2af65e"
  },
  "kernelspec": {
   "display_name": "Python 3.10.2 64-bit",
   "language": "python",
   "name": "python3"
  },
  "language_info": {
   "codemirror_mode": {
    "name": "ipython",
    "version": 3
   },
   "file_extension": ".py",
   "mimetype": "text/x-python",
   "name": "python",
   "nbconvert_exporter": "python",
   "pygments_lexer": "ipython3",
   "version": "3.10.2"
  },
  "orig_nbformat": 4
 },
 "nbformat": 4,
 "nbformat_minor": 2
}
